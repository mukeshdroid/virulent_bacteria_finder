{
 "cells": [
  {
   "cell_type": "code",
   "execution_count": 1,
   "id": "04e46af3",
   "metadata": {},
   "outputs": [
    {
     "name": "stdout",
     "output_type": "stream",
     "text": [
      "/bin/bash: li: command not found\r\n"
     ]
    }
   ],
   "source": [
    "!li"
   ]
  },
  {
   "cell_type": "code",
   "execution_count": 2,
   "id": "b2082539",
   "metadata": {},
   "outputs": [
    {
     "name": "stdout",
     "output_type": "stream",
     "text": [
      "Untitled.ipynb\tdatabases\t   ecoli.fna\t  icon.ico\r\n",
      "bactharm.py\tdatabases-backuip  ecoli.fna.xml  icon.jpg\r\n"
     ]
    }
   ],
   "source": [
    "!ls\n"
   ]
  },
  {
   "cell_type": "code",
   "execution_count": 3,
   "id": "d543353d",
   "metadata": {},
   "outputs": [],
   "source": [
    "!sed -i '/Sequence/,$!d' ecoli.fna.xml"
   ]
  },
  {
   "cell_type": "code",
   "execution_count": 4,
   "id": "4fcdbe82",
   "metadata": {},
   "outputs": [
    {
     "name": "stdout",
     "output_type": "stream",
     "text": [
      "Sequences producing significant alignments:                          (Bits)     Value\r\n",
      "\r\n",
      "VFG049148(gb|WP_041168941) (clbB) colibactin hybrid non-ribosomal...  17762      0.0   \r\n",
      "VFG000362(gb|WP_002212777) (irp1) yersiniabactin biosynthetic pro...  17379      0.0   \r\n",
      "VFG044329(gb|WP_015874964) (irp1) yersiniabactin polyketide synth...  17280      0.0   \r\n",
      "VFG049157(gb|WP_014907259) (clbK) colibactin hybrid non-ribosomal...  11917      0.0   \r\n",
      "VFG049156(gb|WP_077265119) (clbJ) colibactin non-ribosomal peptid...  11839      0.0   \r\n",
      "VFG000363(gb|WP_002212775) (irp2) yersiniabactin biosynthetic pro...  11202      0.0   \r\n",
      "VFG044328(gb|WP_015874963) (irp2) yersiniabactin non-ribosomal pe...  11141      0.0   \r\n",
      "VFG049154(gb|WP_014907257) (clbH) colibactin non-ribosomal peptid...  8853       0.0   \r\n"
     ]
    }
   ],
   "source": [
    "!head ecoli.fna.xml"
   ]
  },
  {
   "cell_type": "code",
   "execution_count": 7,
   "id": "3251845a",
   "metadata": {},
   "outputs": [
    {
     "name": "stdout",
     "output_type": "stream",
     "text": [
      "Sequences producing significant alignments:                          (Bits)     Value\n",
      "\n",
      "\n",
      "\n",
      "VFG049148(gb|WP_041168941) (clbB) colibactin hybrid non-ribosomal...  17762      0.0   \n",
      "\n",
      "VFG000362(gb|WP_002212777) (irp1) yersiniabactin biosynthetic pro...  17379      0.0   \n",
      "\n",
      "VFG044329(gb|WP_015874964) (irp1) yersiniabactin polyketide synth...  17280      0.0   \n",
      "\n",
      "VFG049157(gb|WP_014907259) (clbK) colibactin hybrid non-ribosomal...  11917      0.0   \n",
      "\n",
      "VFG049156(gb|WP_077265119) (clbJ) colibactin non-ribosomal peptid...  11839      0.0   \n",
      "\n",
      "VFG000363(gb|WP_002212775) (irp2) yersiniabactin biosynthetic pro...  11202      0.0   \n",
      "\n",
      "VFG044328(gb|WP_015874963) (irp2) yersiniabactin non-ribosomal pe...  11141      0.0   \n",
      "\n",
      "VFG049154(gb|WP_014907257) (clbH) colibactin non-ribosomal peptid...  8853       0.0   \n",
      "\n",
      "VFG049160(gb|WP_001327259) (clbN) colibactin non-ribosomal peptid...  8061       0.0   \n",
      "\n",
      "VFG045349(gb|WP_000092542) (fdeC) adhesin FdeC [FdeC (VF0506) - A...  7845       0.0   \n",
      "\n",
      "VFG000930(gb|WP_000077767) (entF) enterobactin synthase multienzy...  6828       0.0   \n",
      "\n",
      "VFG012509(gb|WP_001111200) (iroC) ATP binding cassette transporte...  6621       0.0   \n",
      "\n",
      "VFG049155(gb|WP_000829570) (clbI) colibactin polyketide synthase ...  5596       0.0   \n",
      "\n"
     ]
    }
   ],
   "source": [
    "file1 = open('ecoli.fna.xml', 'r')\n",
    "Lines = file1.readlines()\n",
    "fd = open('ecoli.txt','w')\n",
    "for line in Lines[0:15]:\n",
    "    fd.write(line)"
   ]
  },
  {
   "cell_type": "code",
   "execution_count": null,
   "id": "c4d2e268",
   "metadata": {},
   "outputs": [],
   "source": []
  }
 ],
 "metadata": {
  "kernelspec": {
   "display_name": "mcscvenv",
   "language": "python",
   "name": "mcscvenv"
  },
  "language_info": {
   "codemirror_mode": {
    "name": "ipython",
    "version": 3
   },
   "file_extension": ".py",
   "mimetype": "text/x-python",
   "name": "python",
   "nbconvert_exporter": "python",
   "pygments_lexer": "ipython3",
   "version": "3.8.10"
  }
 },
 "nbformat": 4,
 "nbformat_minor": 5
}
